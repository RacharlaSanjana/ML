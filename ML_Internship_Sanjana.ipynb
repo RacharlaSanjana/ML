{
  "cells": [
    {
      "cell_type": "code",
      "execution_count": 1,
      "metadata": {
        "id": "Kz5r5wU-HLCo",
        "colab": {
          "base_uri": "https://localhost:8080/"
        },
        "outputId": "f83d0412-4763-4f32-f0de-23b83201890f"
      },
      "outputs": [
        {
          "output_type": "stream",
          "name": "stdout",
          "text": [
            "Collecting pandas_ta\n",
            "  Downloading pandas_ta-0.3.14b.tar.gz (115 kB)\n",
            "\u001b[?25l     \u001b[90m━━━━━━━━━━━━━━━━━━━━━━━━━━━━━━━━━━━━━━━━\u001b[0m \u001b[32m0.0/115.1 kB\u001b[0m \u001b[31m?\u001b[0m eta \u001b[36m-:--:--\u001b[0m\r\u001b[2K     \u001b[91m━━━━━━━━━━━━━━━━━━━━━━━━━━━━━━━━━━━━━━━\u001b[0m\u001b[90m╺\u001b[0m \u001b[32m112.6/115.1 kB\u001b[0m \u001b[31m3.8 MB/s\u001b[0m eta \u001b[36m0:00:01\u001b[0m\r\u001b[2K     \u001b[90m━━━━━━━━━━━━━━━━━━━━━━━━━━━━━━━━━━━━━━━━\u001b[0m \u001b[32m115.1/115.1 kB\u001b[0m \u001b[31m3.0 MB/s\u001b[0m eta \u001b[36m0:00:00\u001b[0m\n",
            "\u001b[?25h  Preparing metadata (setup.py) ... \u001b[?25l\u001b[?25hdone\n",
            "Requirement already satisfied: pandas in /usr/local/lib/python3.10/dist-packages (from pandas_ta) (2.0.3)\n",
            "Requirement already satisfied: python-dateutil>=2.8.2 in /usr/local/lib/python3.10/dist-packages (from pandas->pandas_ta) (2.8.2)\n",
            "Requirement already satisfied: pytz>=2020.1 in /usr/local/lib/python3.10/dist-packages (from pandas->pandas_ta) (2023.4)\n",
            "Requirement already satisfied: tzdata>=2022.1 in /usr/local/lib/python3.10/dist-packages (from pandas->pandas_ta) (2024.1)\n",
            "Requirement already satisfied: numpy>=1.21.0 in /usr/local/lib/python3.10/dist-packages (from pandas->pandas_ta) (1.25.2)\n",
            "Requirement already satisfied: six>=1.5 in /usr/local/lib/python3.10/dist-packages (from python-dateutil>=2.8.2->pandas->pandas_ta) (1.16.0)\n",
            "Building wheels for collected packages: pandas_ta\n",
            "  Building wheel for pandas_ta (setup.py) ... \u001b[?25l\u001b[?25hdone\n",
            "  Created wheel for pandas_ta: filename=pandas_ta-0.3.14b0-py3-none-any.whl size=218907 sha256=dc3076a2b35b1bad659563efd8f9d84de3fc999eff61124001f59bb51a48216e\n",
            "  Stored in directory: /root/.cache/pip/wheels/69/00/ac/f7fa862c34b0e2ef320175100c233377b4c558944f12474cf0\n",
            "Successfully built pandas_ta\n",
            "Installing collected packages: pandas_ta\n",
            "Successfully installed pandas_ta-0.3.14b0\n"
          ]
        }
      ],
      "source": [
        "!pip install pandas_ta\n",
        "import pandas as pd\n",
        "import pandas_ta as ta"
      ]
    },
    {
      "cell_type": "code",
      "execution_count": 2,
      "metadata": {
        "id": "_bD4pacCHRCm"
      },
      "outputs": [],
      "source": [
        "btc_data = pd.read_csv('/content/gemini_BTCUSD_2020_1min.csv', nrows=10000)\n",
        "eth_data = pd.read_csv('/content/gemini_ETHUSD_2020_1min.csv', nrows=10000)\n",
        "ltc_data = pd.read_csv('/content/gemini_LTCUSD_2020_1min.csv', nrows=10000)\n"
      ]
    },
    {
      "cell_type": "code",
      "execution_count": 3,
      "metadata": {
        "colab": {
          "base_uri": "https://localhost:8080/"
        },
        "id": "RqFGEOayGzu3",
        "outputId": "bdc0478c-a8d2-4aa8-ed46-3c1b81653b16"
      },
      "outputs": [
        {
          "output_type": "stream",
          "name": "stdout",
          "text": [
            "Table 1\n",
            "Technical indicators and their corresponding category.\n",
            "Feature\t\t\t\t\tDescription\t\t\t\t\tCategory\n",
            "Open\t\t\t\t\t\tOpen price of the current day\t\t\t\t\t\tCandlestick\n",
            "High\t\t\t\t\t\tHighest price of the current day\t\t\t\t\t\tCandlestick\n",
            "Low\t\t\t\t\t\tLowest price of the current day\t\t\t\t\t\tCandlestick\n",
            "Close\t\t\t\t\t\tClose price of the current day\t\t\t\t\t\tCandlestick\n",
            "Volume\t\t\t\t\t\tTrading volume of the current day\t\t\t\t\t\tVolume\n",
            "SMA5-20\t\t\t\t\t\tRelative difference between SMA(5) and SMA(20)\t\t\t\t\t\tTrend\n",
            "EMA5-20\t\t\t\t\t\tRelative difference between EMA(5) and EMA(20)\t\t\t\t\t\tTrend\n",
            "MACD\t\t\t\t\t\tMoving Average Convergence/Divergence\t\t\t\t\t\tVolatility\n",
            "RSI\t\t\t\t\t\tRelative Strength Index\t\t\t\t\t\tMomentum\n",
            "ATR\t\t\t\t\t\tAverage True Range\t\t\t\t\t\tVolatility\n",
            "OBV\t\t\t\t\t\tOn-Balance Volume\t\t\t\t\t\tVolume\n"
          ]
        }
      ],
      "source": [
        "import pandas as pd\n",
        "import pandas_ta as ta\n",
        "\n",
        "def generate_indicators(data):\n",
        "    data['SMA5-20'] = ta.sma(data['Close'], length=5) - ta.sma(data['Close'], length=20)\n",
        "    data['EMA5-20'] = ta.ema(data['Close'], length=5) - ta.ema(data['Close'], length=20)\n",
        "    data['MACD'], _, _ = ta.macd(data['Close'])\n",
        "    data['RSI'] = ta.rsi(data['Close'])\n",
        "    data['ATR'] = ta.atr(data['High'], data['Low'], data['Close'])\n",
        "    data['OBV'] = ta.obv(data['Close'], data['Volume'])\n",
        "    data.dropna(inplace=True)\n",
        "\n",
        "    return data\n",
        "btc_data = generate_indicators(btc_data)\n",
        "eth_data = generate_indicators(eth_data)\n",
        "ltc_data = generate_indicators(ltc_data)\n",
        "\n",
        "indicator_categories = {\n",
        "    'Open': 'Candlestick',\n",
        "    'High': 'Candlestick',\n",
        "    'Low': 'Candlestick',\n",
        "    'Close': 'Candlestick',\n",
        "    'Volume': 'Volume',\n",
        "    'SMA5-20': 'Trend',\n",
        "    'EMA5-20': 'Trend',\n",
        "    'MACD': 'Volatility',\n",
        "    'RSI': 'Momentum',\n",
        "    'ATR': 'Volatility',\n",
        "    'OBV': 'Volume',\n",
        "}\n",
        "\n",
        "description = {\n",
        "    'Open': 'Open price of the current day',\n",
        "    'High': 'Highest price of the current day',\n",
        "    'Low': 'Lowest price of the current day',\n",
        "    'Close': 'Close price of the current day',\n",
        "    'Volume': 'Trading volume of the current day',\n",
        "    'SMA5-20': 'Relative difference between SMA(5) and SMA(20)',\n",
        "    'EMA5-20': 'Relative difference between EMA(5) and EMA(20)',\n",
        "    'MACD': 'Moving Average Convergence/Divergence',\n",
        "    'RSI': 'Relative Strength Index',\n",
        "    'ATR': 'Average True Range',\n",
        "    'OBV': 'On-Balance Volume',\n",
        "}\n",
        "\n",
        "print(\"Table 1\")\n",
        "print(\"Technical indicators and their corresponding category.\")\n",
        "print(\"Feature\\t\\t\\t\\t\\tDescription\\t\\t\\t\\t\\tCategory\")\n",
        "for feature, category in indicator_categories.items():\n",
        "    print(f\"{feature}\\t\\t\\t\\t\\t\\t{description[feature]}\\t\\t\\t\\t\\t\\t{category}\")\n"
      ]
    },
    {
      "cell_type": "code",
      "source": [
        "import pandas as pd\n",
        "import numpy as np\n",
        "import matplotlib.pyplot as plt\n",
        "import seaborn as sns\n",
        "\n",
        "print(\"Dataset Information:\")\n",
        "print(btc_data.info())\n",
        "\n",
        "print(\"\\nSummary Statistics:\")\n",
        "print(btc_data.describe())\n",
        "\n",
        "print(\"\\nMissing Values:\")\n",
        "print(btc_data.isnull().sum())\n",
        "\n",
        "plt.figure(figsize=(8, 6))\n",
        "sns.countplot(x='Label', data=btc_data)\n",
        "plt.title(\"Distribution of Labels\")\n",
        "plt.xlabel(\"Label\")\n",
        "plt.ylabel(\"Count\")\n",
        "plt.show()\n",
        "\n",
        "\n",
        "\n",
        "btc_data['Price_Change'] = btc_data['Close'] - btc_data['Open']\n",
        "btc_data['MACD'] = btc_data['Close'].rolling(window=12).mean() - btc_data['Close'].rolling(window=26).mean()\n",
        "delta = btc_data['Close'].diff()\n",
        "gain = delta.where(delta > 0, 0)\n",
        "loss = -delta.where(delta < 0, 0)\n",
        "avg_gain = gain.rolling(window=14).mean()\n",
        "avg_loss = loss.rolling(window=14).mean()\n",
        "rs = avg_gain / avg_loss\n",
        "btc_data['RSI'] = 100 - (100 / (1 + rs))\n",
        "btc_data['MA20'] = btc_data['Close'].rolling(window=20).mean()\n",
        "btc_data['20dSTD'] = btc_data['Close'].rolling(window=20).std()\n",
        "btc_data['UpperBand'] = btc_data['MA20'] + (btc_data['20dSTD'] * 2)\n",
        "btc_data['LowerBand'] = btc_data['MA20'] - (btc_data['20dSTD'] * 2)\n",
        "btc_data['Volume_ROC'] = btc_data['Volume'].pct_change()\n",
        "btc_data['OBV'] = (np.sign(btc_data['Close'].diff()) * btc_data['Volume']).cumsum()\n",
        "\n",
        "print(\"\\nModified Dataset with New Features:\")\n",
        "print(btc_data.head())\n"
      ],
      "metadata": {
        "colab": {
          "base_uri": "https://localhost:8080/",
          "height": 1000
        },
        "id": "xxZ2Cp6Qwt0I",
        "outputId": "98332121-87b1-4990-a223-d4936ae04859"
      },
      "execution_count": 30,
      "outputs": [
        {
          "output_type": "stream",
          "name": "stdout",
          "text": [
            "Dataset Information:\n",
            "<class 'pandas.core.frame.DataFrame'>\n",
            "Index: 9981 entries, 19 to 9999\n",
            "Data columns (total 23 columns):\n",
            " #   Column        Non-Null Count  Dtype  \n",
            "---  ------        --------------  -----  \n",
            " 0   Unix          9981 non-null   float64\n",
            " 1   Time Stamp    9981 non-null   object \n",
            " 2   Data Symbol   9981 non-null   object \n",
            " 3   Open          9981 non-null   float64\n",
            " 4   High          9981 non-null   float64\n",
            " 5   Low           9981 non-null   float64\n",
            " 6   Close         9981 non-null   float64\n",
            " 7   Volume        9981 non-null   float64\n",
            " 8   SMA5-20       9981 non-null   float64\n",
            " 9   EMA5-20       9981 non-null   float64\n",
            " 10  MACD          9956 non-null   float64\n",
            " 11  RSI           9968 non-null   float64\n",
            " 12  ATR           9981 non-null   float64\n",
            " 13  OBV           9980 non-null   float64\n",
            " 14  Price_Diff    9980 non-null   float64\n",
            " 15  Oc            9981 non-null   int64  \n",
            " 16  Label         9981 non-null   int64  \n",
            " 17  Price_Change  9981 non-null   float64\n",
            " 18  MA20          9962 non-null   float64\n",
            " 19  20dSTD        9962 non-null   float64\n",
            " 20  UpperBand     9962 non-null   float64\n",
            " 21  LowerBand     9962 non-null   float64\n",
            " 22  Volume_ROC    9980 non-null   float64\n",
            "dtypes: float64(19), int64(2), object(2)\n",
            "memory usage: 2.1+ MB\n",
            "None\n",
            "\n",
            "Summary Statistics:\n",
            "               Unix          Open          High           Low         Close  \\\n",
            "count  9.981000e+03   9981.000000   9981.000000   9981.000000   9981.000000   \n",
            "mean   1.620000e+12  60606.652179  60646.770170  60565.927831  60606.207335   \n",
            "std    0.000000e+00   2978.636138   2967.509867   2991.527440   2979.027917   \n",
            "min    1.620000e+12  52072.710000  52426.520000  50622.320000  52072.710000   \n",
            "25%    1.620000e+12  57141.270000  57174.250000  57104.170000  57140.330000   \n",
            "50%    1.620000e+12  61744.100000  61782.760000  61705.320000  61744.100000   \n",
            "75%    1.620000e+12  62936.000000  62967.140000  62900.010000  62936.000000   \n",
            "max    1.620000e+12  64890.000000  64900.000000  64775.620000  64890.000000   \n",
            "\n",
            "            Volume      SMA5-20      EMA5-20         MACD          RSI  ...  \\\n",
            "count  9981.000000  9981.000000  9981.000000  9956.000000  9968.000000  ...   \n",
            "mean      1.703029     3.400008     3.462765     3.229956    49.723484  ...   \n",
            "std       7.527553   141.244757   109.369577   114.213249    15.563107  ...   \n",
            "min       0.000000 -1123.674000 -1006.172561  -777.393974     2.715076  ...   \n",
            "25%       0.121079   -65.862500   -49.667491   -53.396811    38.993561  ...   \n",
            "50%       0.424179     1.522000     0.035914     1.084776    49.964837  ...   \n",
            "75%       1.366646    66.019500    51.551191    52.762692    60.708925  ...   \n",
            "max     482.053940  1971.725500  1437.428708  1367.961090    98.442236  ...   \n",
            "\n",
            "               OBV   Price_Diff           Oc        Label  Price_Change  \\\n",
            "count  9980.000000  9980.000000  9981.000000  9981.000000   9981.000000   \n",
            "mean  -1132.469533     0.449671     0.001202     0.558361     -0.444844   \n",
            "std     613.795721    77.812933     0.995782     2.961430     77.811812   \n",
            "min   -1826.220011 -1122.810000    -1.000000    -9.000000  -1996.540000   \n",
            "25%   -1568.688684   -34.532500    -1.000000    -1.000000    -34.550000   \n",
            "50%   -1362.400325     0.000000     0.000000     1.000000      0.000000   \n",
            "75%   -1058.279845    34.555000     1.000000     1.000000     34.540000   \n",
            "max      37.603285  1996.540000     1.000000    29.000000   1122.810000   \n",
            "\n",
            "               MA20       20dSTD     UpperBand     LowerBand   Volume_ROC  \n",
            "count   9962.000000  9962.000000   9962.000000   9962.000000  9980.000000  \n",
            "mean   60611.128542   103.086020  60817.300583  60404.956502          inf  \n",
            "std     2974.881516    96.849962   2926.143815   3035.220218          NaN  \n",
            "min    53634.908500    13.641270  54011.521153  51400.505026    -1.000000  \n",
            "25%    57131.135375    57.173883  57323.265352  56960.604402    -0.684802  \n",
            "50%    61742.297750    82.210039  61910.663561  61544.102336     0.006472  \n",
            "75%    62933.835000   119.163915  63105.264905  62768.550609     2.274669  \n",
            "max    64626.599500  1700.159770  64910.988072  64519.848292          inf  \n",
            "\n",
            "[8 rows x 21 columns]\n",
            "\n",
            "Missing Values:\n",
            "Unix             0\n",
            "Time Stamp       0\n",
            "Data Symbol      0\n",
            "Open             0\n",
            "High             0\n",
            "Low              0\n",
            "Close            0\n",
            "Volume           0\n",
            "SMA5-20          0\n",
            "EMA5-20          0\n",
            "MACD            25\n",
            "RSI             13\n",
            "ATR              0\n",
            "OBV              1\n",
            "Price_Diff       1\n",
            "Oc               0\n",
            "Label            0\n",
            "Price_Change     0\n",
            "MA20            19\n",
            "20dSTD          19\n",
            "UpperBand       19\n",
            "LowerBand       19\n",
            "Volume_ROC       1\n",
            "dtype: int64\n"
          ]
        },
        {
          "output_type": "display_data",
          "data": {
            "text/plain": [
              "<Figure size 800x600 with 1 Axes>"
            ],
            "image/png": "[encoded data removed]"
          },
          "metadata": {}
        },
        {
          "output_type": "stream",
          "name": "stdout",
          "text": [
            "\n",
            "Modified Dataset with New Features:\n",
            "            Unix       Time Stamp Data Symbol      Open      High       Low  \\\n",
            "19  1.620000e+12  4/19/2021 23:42      BTCUSD  55733.87  55784.29  55727.33   \n",
            "20  1.620000e+12  4/19/2021 23:41      BTCUSD  55733.44  55733.87  55651.65   \n",
            "21  1.620000e+12  4/19/2021 23:40      BTCUSD  55709.64  55789.43  55709.64   \n",
            "22  1.620000e+12  4/19/2021 23:39      BTCUSD  55826.46  55826.46  55709.64   \n",
            "23  1.620000e+12  4/19/2021 23:38      BTCUSD  55931.36  55931.36  55826.46   \n",
            "\n",
            "       Close    Volume  SMA5-20    EMA5-20  ...       OBV  Price_Diff  Oc  \\\n",
            "19  55770.34  1.926222  64.1030  45.496860  ...       NaN         NaN   0   \n",
            "20  55733.87  0.679018  31.8810  22.380050  ... -0.679018      -36.47  -1   \n",
            "21  55733.44  2.043176   2.8720   7.623718  ... -2.722194       -0.43  -1   \n",
            "22  55709.64  2.184543  -5.7865  -7.185616  ... -4.906737      -23.80  -1   \n",
            "23  55826.46  1.157835 -14.8825  11.924170  ... -3.748902      116.82   1   \n",
            "\n",
            "    Label  Price_Change  MA20  20dSTD  UpperBand  LowerBand  Volume_ROC  \n",
            "19      0         36.47   NaN     NaN        NaN        NaN         NaN  \n",
            "20      0          0.43   NaN     NaN        NaN        NaN   -0.647487  \n",
            "21      0         23.80   NaN     NaN        NaN        NaN    2.009016  \n",
            "22      0       -116.82   NaN     NaN        NaN        NaN    0.069190  \n",
            "23      0       -104.90   NaN     NaN        NaN        NaN   -0.469987  \n",
            "\n",
            "[5 rows x 23 columns]\n"
          ]
        }
      ]
    },
    {
      "cell_type": "code",
      "execution_count": 6,
      "metadata": {
        "colab": {
          "base_uri": "https://localhost:8080/"
        },
        "id": "mqmscf1fbWVg",
        "outputId": "62c1f9ec-c400-445d-86ce-80b00df6beac"
      },
      "outputs": [
        {
          "output_type": "stream",
          "name": "stdout",
          "text": [
            "              Unix       Time Stamp Data Symbol      Open      High       Low  \\\n",
            "19    1.620000e+12  4/19/2021 23:42      BTCUSD  55733.87  55784.29  55727.33   \n",
            "20    1.620000e+12  4/19/2021 23:41      BTCUSD  55733.44  55733.87  55651.65   \n",
            "21    1.620000e+12  4/19/2021 23:40      BTCUSD  55709.64  55789.43  55709.64   \n",
            "22    1.620000e+12  4/19/2021 23:39      BTCUSD  55826.46  55826.46  55709.64   \n",
            "23    1.620000e+12  4/19/2021 23:38      BTCUSD  55931.36  55931.36  55826.46   \n",
            "...            ...              ...         ...       ...       ...       ...   \n",
            "9995  1.620000e+12   4/13/2021 1:24      BTCUSD  60282.70  60324.21  60282.70   \n",
            "9996  1.620000e+12   4/13/2021 1:23      BTCUSD  60295.86  60295.86  60280.96   \n",
            "9997  1.620000e+12   4/13/2021 1:22      BTCUSD  60299.73  60326.55  60288.74   \n",
            "9998  1.620000e+12   4/13/2021 1:21      BTCUSD  60258.06  60301.34  60258.06   \n",
            "9999  1.620000e+12   4/13/2021 1:20      BTCUSD  60198.58  60267.01  60178.05   \n",
            "\n",
            "         Close    Volume  SMA5-20    EMA5-20          MACD        RSI  \\\n",
            "19    55770.34  1.926222  64.1030  45.496860  MACD_12_26_9  50.002145   \n",
            "20    55733.87  0.679018  31.8810  22.380050  MACD_12_26_9  47.128144   \n",
            "21    55733.44  2.043176   2.8720   7.623718  MACD_12_26_9  47.093774   \n",
            "22    55709.64  2.184543  -5.7865  -7.185616  MACD_12_26_9  45.131880   \n",
            "23    55826.46  1.157835 -14.8825  11.924170  MACD_12_26_9  55.033869   \n",
            "...        ...       ...      ...        ...           ...        ...   \n",
            "9995  60324.21  1.423807 -64.4460 -58.651490  MACD_12_26_9  38.332312   \n",
            "9996  60282.70  0.068478 -48.8350 -60.238713  MACD_12_26_9  34.214040   \n",
            "9997  60295.86  0.677761 -39.2100 -56.150412  MACD_12_26_9  36.541735   \n",
            "9998  60299.73  0.024651 -29.0695 -50.980471  MACD_12_26_9  37.244939   \n",
            "9999  60258.06  0.045995 -32.4805 -56.165096  MACD_12_26_9  33.004043   \n",
            "\n",
            "             ATR          OBV  Price_Diff  Oc  Label  \n",
            "19    110.889933    15.866944         NaN   0      0  \n",
            "20    111.610830    15.187926      -36.47  -1      0  \n",
            "21    108.730359    13.144750       -0.43  -1      0  \n",
            "22    109.448927    10.960207      -23.80  -1      0  \n",
            "23    119.250946    12.118042      116.82   1      0  \n",
            "...          ...          ...         ...  ..    ...  \n",
            "9995   61.054965 -1693.279416       -9.80  -1     -1  \n",
            "9996   59.783182 -1693.347895      -41.51  -1     -1  \n",
            "9997   58.645097 -1692.670133       13.16   1      1  \n",
            "9998   57.547590 -1692.645483        3.87   1     -1  \n",
            "9999   62.128477 -1692.691478      -41.67  -1     -1  \n",
            "\n",
            "[9981 rows x 17 columns]\n",
            "      Unix Timestamp             Date  Symbol     Open     High      Low  \\\n",
            "19      1.618880e+12  4/19/2021 23:44  ETHUSD  2167.77  2167.77  2162.28   \n",
            "20      1.618880e+12  4/19/2021 23:43  ETHUSD  2164.75  2169.00  2164.30   \n",
            "21      1.618880e+12  4/19/2021 23:42  ETHUSD  2161.00  2165.00  2161.00   \n",
            "22      1.618880e+12  4/19/2021 23:41  ETHUSD  2164.27  2164.27  2157.39   \n",
            "23      1.618880e+12  4/19/2021 23:40  ETHUSD  2159.22  2165.74  2159.22   \n",
            "...              ...              ...     ...      ...      ...      ...   \n",
            "9995    1.618280e+12   4/13/2021 1:26  ETHUSD  2154.00  2154.00  2152.03   \n",
            "9996    1.618280e+12   4/13/2021 1:25  ETHUSD  2154.39  2154.39  2153.18   \n",
            "9997    1.618280e+12   4/13/2021 1:24  ETHUSD  2154.34  2154.39  2153.14   \n",
            "9998    1.618280e+12   4/13/2021 1:23  ETHUSD  2152.27  2154.34  2152.27   \n",
            "9999    1.618280e+12   4/13/2021 1:22  ETHUSD  2152.33  2153.11  2152.27   \n",
            "\n",
            "        Close     Volume  SMA5-20   EMA5-20          MACD        RSI  \\\n",
            "19    2163.55   7.080331   5.3505  3.332423  MACD_12_26_9  49.537536   \n",
            "20    2167.77   1.535139   4.0930  2.748401  MACD_12_26_9  54.261281   \n",
            "21    2164.75  10.160276   2.1635  1.589835  MACD_12_26_9  50.610092   \n",
            "22    2161.00   4.839118  -0.3570 -0.052310  MACD_12_26_9  46.432065   \n",
            "23    2164.27  18.891306  -1.6265 -0.262578  MACD_12_26_9  50.286079   \n",
            "...       ...        ...      ...       ...           ...        ...   \n",
            "9995  2152.30   2.960808  -4.2930 -3.676743  MACD_12_26_9  25.497816   \n",
            "9996  2154.00   0.422407  -4.1035 -3.255666  MACD_12_26_9  34.312548   \n",
            "9997  2154.39   0.541892  -3.4880 -2.805471  MACD_12_26_9  36.178112   \n",
            "9998  2154.34   5.379742  -2.9240 -2.456767  MACD_12_26_9  36.036805   \n",
            "9999  2152.27   0.646035  -2.8895 -2.661302  MACD_12_26_9  30.692036   \n",
            "\n",
            "           ATR          OBV  Price_Diff  Oc  Label  \n",
            "19    8.523875   366.112637         NaN   0      0  \n",
            "20    8.239782   367.647776        4.22   1      0  \n",
            "21    8.106735   357.487500       -3.02  -1      0  \n",
            "22    8.040406   352.648382       -3.75  -1      0  \n",
            "23    7.907664   371.539688        3.27   1      0  \n",
            "...        ...          ...         ...  ..    ...  \n",
            "9995  3.509058 -9143.437575       -1.56  -1     -1  \n",
            "9996  3.407696 -9143.015168        1.70   1      1  \n",
            "9997  3.253575 -9142.473276        0.39   1      1  \n",
            "9998  3.172606 -9147.853018       -0.05  -1     -1  \n",
            "9999  3.093848 -9148.499053       -2.07  -1      1  \n",
            "\n",
            "[9981 rows x 17 columns]\n",
            "      Unix Timestamp             Date  Symbol    Open    High     Low   Close  \\\n",
            "19      1.618880e+12  4/19/2021 23:44  LTCUSD  262.47  262.47  261.39  261.62   \n",
            "20      1.618880e+12  4/19/2021 23:43  LTCUSD  261.23  262.47  261.23  262.47   \n",
            "21      1.618880e+12  4/19/2021 23:42  LTCUSD  261.23  261.23  261.23  261.23   \n",
            "22      1.618880e+12  4/19/2021 23:41  LTCUSD  262.27  262.27  260.72  261.23   \n",
            "23      1.618880e+12  4/19/2021 23:40  LTCUSD  261.03  262.41  261.03  262.27   \n",
            "...              ...              ...     ...     ...     ...     ...     ...   \n",
            "9995    1.618280e+12   4/13/2021 1:25  LTCUSD  249.90  249.90  249.50  249.50   \n",
            "9996    1.618280e+12   4/13/2021 1:24  LTCUSD  249.79  249.90  249.79  249.90   \n",
            "9997    1.618280e+12   4/13/2021 1:23  LTCUSD  249.49  249.79  249.49  249.79   \n",
            "9998    1.618280e+12   4/13/2021 1:22  LTCUSD  249.41  249.71  249.41  249.49   \n",
            "9999    1.618280e+12   4/13/2021 1:21  LTCUSD  249.13  249.71  249.13  249.41   \n",
            "\n",
            "        Volume  SMA5-20   EMA5-20          MACD        RSI       ATR  \\\n",
            "19     4.64042   0.8095  0.549913  MACD_12_26_9  52.969599  1.140515   \n",
            "20    11.75442   0.6300  0.540299  MACD_12_26_9  59.158687  1.149710   \n",
            "21     0.00000   0.2110  0.222110  MACD_12_26_9  49.023346  1.157883   \n",
            "22    10.93061  -0.0820  0.023135  MACD_12_26_9  49.023346  1.192713   \n",
            "23     6.48418  -0.0670  0.150003  MACD_12_26_9  56.305037  1.209064   \n",
            "...        ...      ...       ...           ...        ...       ...   \n",
            "9995   0.77823  -0.7380 -0.592447  MACD_12_26_9  35.074264  0.411030   \n",
            "9996   0.22305  -0.5370 -0.444115  MACD_12_26_9  43.399790  0.410242   \n",
            "9997   0.12750  -0.3850 -0.366737  MACD_12_26_9  41.811929  0.410225   \n",
            "9998   2.25318  -0.3310 -0.379850  MACD_12_26_9  37.754873  0.408066   \n",
            "9999   0.59324  -0.2845 -0.394749  MACD_12_26_9  36.731342  0.420347   \n",
            "\n",
            "               OBV  Price_Diff  Oc  Label  \n",
            "19      645.225530         NaN   0      0  \n",
            "20      656.979950        0.85   1      0  \n",
            "21      656.979950       -1.24  -1      0  \n",
            "22      656.979950        0.00   0      0  \n",
            "23      663.464130        1.04   1      0  \n",
            "...            ...         ...  ..    ...  \n",
            "9995 -32867.426121        0.00   0      1  \n",
            "9996 -32867.203071        0.40   1     -1  \n",
            "9997 -32867.330571       -0.11  -1     -1  \n",
            "9998 -32869.583751       -0.30  -1      1  \n",
            "9999 -32870.176991       -0.08  -1      1  \n",
            "\n",
            "[9981 rows x 17 columns]\n"
          ]
        }
      ],
      "source": [
        "def indicator_function(data):\n",
        "    # Compute the price difference between consecutive days\n",
        "    data['Price_Diff'] = data['Close'].diff()\n",
        "    # Initialize indicator column with 0\n",
        "    data['Oc'] = 0\n",
        "    # Set indicator value based on the price difference\n",
        "    data.loc[data['Price_Diff'] > 0, 'Oc'] = 1\n",
        "    data.loc[data['Price_Diff'] < 0, 'Oc'] = -1\n",
        "    return data\n",
        "\n",
        "btc_data_i = indicator_function(btc_data)\n",
        "eth_data_i= indicator_function(eth_data)\n",
        "ltc_data_i= indicator_function(ltc_data)\n",
        "print(btc_data_i)\n",
        "print(eth_data_i)\n",
        "print(ltc_data_i)\n"
      ]
    },
    {
      "cell_type": "code",
      "execution_count": 5,
      "metadata": {
        "id": "ByYprrrRfofl"
      },
      "outputs": [],
      "source": [
        "def label_dataset(data, k=1, W_min=50, W_max=360):\n",
        "    labels = []\n",
        "    for i in range(len(data)):\n",
        "        label = 0\n",
        "        # Calculate the historical window size for this sample\n",
        "        W = min(i + 1, W_max) - max(i - W_max + 1, 0)\n",
        "        # Check if the current row exists in the dataset\n",
        "        if i in data.index:\n",
        "            # Calculate the label for this sample using the indicator function Oc\n",
        "            label = data['Oc'][i]\n",
        "            for j in range(1, W):\n",
        "                # Skip cases where the row does not exist\n",
        "                if (i - j) not in data.index:\n",
        "                    continue\n",
        "                label += k * data['Oc'][i - j]\n",
        "\n",
        "        labels.append(label)\n",
        "\n",
        "    data['Label'] = labels\n",
        "\n",
        "    return data\n",
        "\n",
        "btc_data = label_dataset(btc_data)\n",
        "eth_data = label_dataset(eth_data)\n",
        "ltc_data = label_dataset(ltc_data)\n"
      ]
    },
    {
      "cell_type": "markdown",
      "metadata": {
        "id": "iL24oUcs3_j5"
      },
      "source": [
        "Random Forest Classifier"
      ]
    },
    {
      "cell_type": "code",
      "execution_count": 10,
      "metadata": {
        "colab": {
          "base_uri": "https://localhost:8080/"
        },
        "id": "0DZvDlwUgh4w",
        "outputId": "1a85f45d-1f0e-484f-bb70-b589687f922c"
      },
      "outputs": [
        {
          "output_type": "stream",
          "name": "stdout",
          "text": [
            "Bitcoin Dataset:\n"
          ]
        },
        {
          "output_type": "stream",
          "name": "stderr",
          "text": [
            "/usr/local/lib/python3.10/dist-packages/sklearn/metrics/_classification.py:1344: UndefinedMetricWarning: Recall is ill-defined and being set to 0.0 in labels with no true samples. Use `zero_division` parameter to control this behavior.\n",
            "  _warn_prf(average, modifier, msg_start, len(result))\n",
            "/usr/local/lib/python3.10/dist-packages/sklearn/metrics/_classification.py:1344: UndefinedMetricWarning: Precision is ill-defined and being set to 0.0 in labels with no predicted samples. Use `zero_division` parameter to control this behavior.\n",
            "  _warn_prf(average, modifier, msg_start, len(result))\n"
          ]
        },
        {
          "output_type": "stream",
          "name": "stdout",
          "text": [
            "Metrics for Bitcoin dataset:\n",
            "Accuracy: 0.486229344016024\n",
            "Recall: 0.486229344016024\n",
            "Precision: 0.4893490370513305\n",
            "\n",
            "Ethereum Dataset:\n"
          ]
        },
        {
          "output_type": "stream",
          "name": "stderr",
          "text": [
            "/usr/local/lib/python3.10/dist-packages/sklearn/metrics/_classification.py:1344: UndefinedMetricWarning: Recall is ill-defined and being set to 0.0 in labels with no true samples. Use `zero_division` parameter to control this behavior.\n",
            "  _warn_prf(average, modifier, msg_start, len(result))\n",
            "/usr/local/lib/python3.10/dist-packages/sklearn/metrics/_classification.py:1344: UndefinedMetricWarning: Precision is ill-defined and being set to 0.0 in labels with no predicted samples. Use `zero_division` parameter to control this behavior.\n",
            "  _warn_prf(average, modifier, msg_start, len(result))\n"
          ]
        },
        {
          "output_type": "stream",
          "name": "stdout",
          "text": [
            "Metrics for Ethereum dataset:\n",
            "Accuracy: 0.5027541311967952\n",
            "Recall: 0.5027541311967952\n",
            "Precision: 0.49518540315757226\n",
            "\n",
            "Litecoin Dataset:\n",
            "Metrics for Litecoin dataset:\n",
            "Accuracy: 0.45818728092138206\n",
            "Recall: 0.45818728092138206\n",
            "Precision: 0.4510894477696647\n"
          ]
        },
        {
          "output_type": "stream",
          "name": "stderr",
          "text": [
            "/usr/local/lib/python3.10/dist-packages/sklearn/metrics/_classification.py:1344: UndefinedMetricWarning: Recall is ill-defined and being set to 0.0 in labels with no true samples. Use `zero_division` parameter to control this behavior.\n",
            "  _warn_prf(average, modifier, msg_start, len(result))\n",
            "/usr/local/lib/python3.10/dist-packages/sklearn/metrics/_classification.py:1344: UndefinedMetricWarning: Precision is ill-defined and being set to 0.0 in labels with no predicted samples. Use `zero_division` parameter to control this behavior.\n",
            "  _warn_prf(average, modifier, msg_start, len(result))\n"
          ]
        }
      ],
      "source": [
        "from sklearn.metrics import accuracy_score, recall_score, precision_score\n",
        "\n",
        "def apply_random_forest_classifier(data, crypto_name):\n",
        "    features = ['Open', 'High', 'Low', 'Close', 'Volume', 'SMA5-20', 'EMA5-20', 'RSI', 'ATR', 'OBV']\n",
        "    X = data[features]\n",
        "    y = data['Label']\n",
        "\n",
        "    X_train, X_eval, y_train, y_eval = train_test_split(X, y, test_size=0.2, random_state=42)\n",
        "\n",
        "    classifier = RandomForestClassifier(random_state=42)\n",
        "    classifier.fit(X_train, y_train)\n",
        "\n",
        "    y_pred = classifier.predict(X_eval)\n",
        "\n",
        "    accuracy = accuracy_score(y_eval, y_pred)\n",
        "    recall = recall_score(y_eval, y_pred, average='weighted')\n",
        "    precision = precision_score(y_eval, y_pred, average='weighted')\n",
        "\n",
        "    print(f\"Metrics for {crypto_name} dataset:\")\n",
        "    print(f\"Accuracy: {accuracy}\")\n",
        "    print(f\"Recall: {recall}\")\n",
        "    print(f\"Precision: {precision}\")\n",
        "\n",
        "print(\"Bitcoin Dataset:\")\n",
        "apply_random_forest_classifier(btc_data, \"Bitcoin\")\n",
        "print(\"\\nEthereum Dataset:\")\n",
        "apply_random_forest_classifier(eth_data, \"Ethereum\")\n",
        "print(\"\\nLitecoin Dataset:\")\n",
        "apply_random_forest_classifier(ltc_data, \"Litecoin\")\n"
      ]
    },
    {
      "cell_type": "code",
      "execution_count": 8,
      "metadata": {
        "colab": {
          "base_uri": "https://localhost:8080/"
        },
        "id": "ISeKmG-ZyNkG",
        "outputId": "9627126b-177a-486f-dcbe-867302ea0104"
      },
      "outputs": [
        {
          "output_type": "stream",
          "name": "stdout",
          "text": [
            "Accuracy for 2-Class Scenario (Overreaction vs. Normal Day): 0.9909864797195793\n",
            "Accuracy for 3-Class Scenario (Positive Overreaction, Negative Overreaction, Normal Day): 0.7701552328492739\n"
          ]
        }
      ],
      "source": [
        "binary_labels = btc_data_i['Oc'].apply(lambda x: 1 if x != 0 else 0)\n",
        "three_class_labels = btc_data_i['Oc']\n",
        "\n",
        "from sklearn.metrics import accuracy_score\n",
        "features= ['Open', 'High', 'Low', 'Close', 'Volume', 'SMA5-20', 'EMA5-20', 'RSI', 'ATR', 'OBV']\n",
        "X=btc_data[features]\n",
        "X_train_2class, X_eval_2class, y_train_2class, y_eval_2class = train_test_split(X, binary_labels, test_size=0.2, random_state=42)\n",
        "X_train_3class, X_eval_3class, y_train_3class, y_eval_3class = train_test_split(X, three_class_labels, test_size=0.2, random_state=42)\n",
        "\n",
        "classifier_2class = RandomForestClassifier(random_state=42)\n",
        "classifier_3class = RandomForestClassifier(random_state=42)\n",
        "classifier_2class.fit(X_train_2class, y_train_2class)\n",
        "classifier_3class.fit(X_train_3class, y_train_3class)\n",
        "\n",
        "y_pred_2class = classifier_2class.predict(X_eval_2class)\n",
        "y_pred_3class = classifier_3class.predict(X_eval_3class)\n",
        "\n",
        "accuracy_2class = accuracy_score(y_eval_2class, y_pred_2class)\n",
        "accuracy_3class = accuracy_score(y_eval_3class, y_pred_3class)\n",
        "\n",
        "print(\"Accuracy for 2-Class Scenario (Overreaction vs. Normal Day):\", accuracy_2class)\n",
        "print(\"Accuracy for 3-Class Scenario (Positive Overreaction, Negative Overreaction, Normal Day):\", accuracy_3class)\n"
      ]
    },
    {
      "cell_type": "code",
      "execution_count": null,
      "metadata": {
        "colab": {
          "base_uri": "https://localhost:8080/"
        },
        "id": "JC607eEzJkhD",
        "outputId": "1776d1aa-10b1-4021-e95a-3cd586ba407a"
      },
      "outputs": [
        {
          "name": "stdout",
          "output_type": "stream",
          "text": [
            "Ethereum Dataset:\n",
            "Accuracy for 2-Class Scenario (Overreaction vs. Normal Day): 0.9919879819729595\n",
            "Accuracy for 3-Class Scenario (Positive Overreaction, Negative Overreaction, Normal Day): 0.7611417125688533\n",
            "\n",
            "Litecoin Dataset:\n",
            "Accuracy for 2-Class Scenario (Overreaction vs. Normal Day): 0.8908362543815723\n",
            "Accuracy for 3-Class Scenario (Positive Overreaction, Negative Overreaction, Normal Day): 0.6820230345518278\n"
          ]
        }
      ],
      "source": [
        "binary_labels_eth = eth_data_i['Oc'].apply(lambda x: 1 if x != 0 else 0)\n",
        "three_class_labels_eth = eth_data_i['Oc']\n",
        "binary_labels_ltc = ltc_data_i['Oc'].apply(lambda x: 1 if x != 0 else 0)\n",
        "three_class_labels_ltc = ltc_data_i['Oc']\n",
        "features_eth = ['Open', 'High', 'Low', 'Close', 'Volume', 'SMA5-20', 'EMA5-20', 'RSI', 'ATR', 'OBV']\n",
        "features_ltc = ['Open', 'High', 'Low', 'Close', 'Volume', 'SMA5-20', 'EMA5-20', 'RSI', 'ATR', 'OBV']\n",
        "\n",
        "X_eth = eth_data[features_eth]\n",
        "X_ltc = ltc_data[features_ltc]\n",
        "from sklearn.metrics import accuracy_score\n",
        "X_train_2class_eth, X_eval_2class_eth, y_train_2class_eth, y_eval_2class_eth = train_test_split(X_eth, binary_labels_eth, test_size=0.2, random_state=42)\n",
        "X_train_3class_eth, X_eval_3class_eth, y_train_3class_eth, y_eval_3class_eth = train_test_split(X_eth, three_class_labels_eth, test_size=0.2, random_state=42)\n",
        "X_train_2class_ltc, X_eval_2class_ltc, y_train_2class_ltc, y_eval_2class_ltc = train_test_split(X_ltc, binary_labels_ltc, test_size=0.2, random_state=42)\n",
        "X_train_3class_ltc, X_eval_3class_ltc, y_train_3class_ltc, y_eval_3class_ltc = train_test_split(X_ltc, three_class_labels_ltc, test_size=0.2, random_state=42)\n",
        "\n",
        "classifier_2class_eth = RandomForestClassifier(random_state=42)\n",
        "classifier_3class_eth = RandomForestClassifier(random_state=42)\n",
        "classifier_2class_ltc = RandomForestClassifier(random_state=42)\n",
        "classifier_3class_ltc = RandomForestClassifier(random_state=42)\n",
        "classifier_2class_eth.fit(X_train_2class_eth, y_train_2class_eth)\n",
        "classifier_3class_eth.fit(X_train_3class_eth, y_train_3class_eth)\n",
        "classifier_2class_ltc.fit(X_train_2class_ltc, y_train_2class_ltc)\n",
        "classifier_3class_ltc.fit(X_train_3class_ltc, y_train_3class_ltc)\n",
        "\n",
        "# Predicting on evaluation sets for both scenarios\n",
        "y_pred_2class_eth = classifier_2class_eth.predict(X_eval_2class_eth)\n",
        "y_pred_3class_eth = classifier_3class_eth.predict(X_eval_3class_eth)\n",
        "y_pred_2class_ltc = classifier_2class_ltc.predict(X_eval_2class_ltc)\n",
        "y_pred_3class_ltc = classifier_3class_ltc.predict(X_eval_3class_ltc)\n",
        "\n",
        "# Calculating accuracy for both scenarios\n",
        "accuracy_2class_eth = accuracy_score(y_eval_2class_eth, y_pred_2class_eth)\n",
        "accuracy_3class_eth = accuracy_score(y_eval_3class_eth, y_pred_3class_eth)\n",
        "accuracy_2class_ltc = accuracy_score(y_eval_2class_ltc, y_pred_2class_ltc)\n",
        "accuracy_3class_ltc = accuracy_score(y_eval_3class_ltc, y_pred_3class_ltc)\n",
        "\n",
        "print(\"Ethereum Dataset:\")\n",
        "print(\"Accuracy for 2-Class Scenario (Overreaction vs. Normal Day):\", accuracy_2class_eth)\n",
        "print(\"Accuracy for 3-Class Scenario (Positive Overreaction, Negative Overreaction, Normal Day):\", accuracy_3class_eth)\n",
        "\n",
        "print(\"\\nLitecoin Dataset:\")\n",
        "print(\"Accuracy for 2-Class Scenario (Overreaction vs. Normal Day):\", accuracy_2class_ltc)\n",
        "print(\"Accuracy for 3-Class Scenario (Positive Overreaction, Negative Overreaction, Normal Day):\", accuracy_3class_ltc)\n"
      ]
    },
    {
      "cell_type": "markdown",
      "metadata": {
        "id": "E2v0sBnd9lZA"
      },
      "source": [
        "KNN-K-NEAREST NEIGHBOURS"
      ]
    },
    {
      "cell_type": "code",
      "execution_count": 13,
      "metadata": {
        "id": "9f8X5LbL9Inu",
        "colab": {
          "base_uri": "https://localhost:8080/"
        },
        "outputId": "2bd518ae-0c64-44b4-ead9-4fd709a173de"
      },
      "outputs": [
        {
          "output_type": "stream",
          "name": "stdout",
          "text": [
            "Bitcoin Dataset:\n",
            "Metrics for Bitcoin dataset:\n",
            "Accuracy: 0.4441662493740611\n",
            "Recall: 0.4441662493740611\n",
            "Precision: 0.43198328233867606\n"
          ]
        },
        {
          "output_type": "stream",
          "name": "stderr",
          "text": [
            "/usr/local/lib/python3.10/dist-packages/sklearn/metrics/_classification.py:1344: UndefinedMetricWarning: Recall is ill-defined and being set to 0.0 in labels with no true samples. Use `zero_division` parameter to control this behavior.\n",
            "  _warn_prf(average, modifier, msg_start, len(result))\n",
            "/usr/local/lib/python3.10/dist-packages/sklearn/metrics/_classification.py:1344: UndefinedMetricWarning: Precision is ill-defined and being set to 0.0 in labels with no predicted samples. Use `zero_division` parameter to control this behavior.\n",
            "  _warn_prf(average, modifier, msg_start, len(result))\n"
          ]
        }
      ],
      "source": [
        "from sklearn.model_selection import train_test_split\n",
        "from sklearn.neighbors import KNeighborsClassifier\n",
        "from sklearn.metrics import accuracy_score, recall_score, precision_score\n",
        "\n",
        "def apply_knn_classifier(data, crypto_name):\n",
        "    features = ['Open', 'High', 'Low', 'Close', 'Volume', 'SMA5-20', 'EMA5-20', 'RSI', 'ATR', 'OBV']\n",
        "    X = data[features]\n",
        "    y = data['Label']\n",
        "\n",
        "    X_train, X_eval, y_train, y_eval = train_test_split(X, y, test_size=0.2, random_state=42)\n",
        "\n",
        "    classifier = KNeighborsClassifier(n_neighbors=5)\n",
        "    classifier.fit(X_train, y_train)\n",
        "\n",
        "    y_pred = classifier.predict(X_eval)\n",
        "    accuracy = accuracy_score(y_eval, y_pred)\n",
        "    recall = recall_score(y_eval, y_pred, average='weighted')\n",
        "    precision = precision_score(y_eval, y_pred, average='weighted')\n",
        "\n",
        "    print(f\"Metrics for {crypto_name} dataset:\")\n",
        "    print(f\"Accuracy: {accuracy}\")\n",
        "    print(f\"Recall: {recall}\")\n",
        "    print(f\"Precision: {precision}\")\n",
        "\n",
        "print(\"Bitcoin Dataset:\")\n",
        "apply_knn_classifier(btc_data, \"Bitcoin\")\n"
      ]
    },
    {
      "cell_type": "code",
      "execution_count": null,
      "metadata": {
        "colab": {
          "base_uri": "https://localhost:8080/"
        },
        "id": "BKhVp0DO9QL-",
        "outputId": "dc8486b9-debd-4c11-e9ed-49d1a7386229"
      },
      "outputs": [
        {
          "name": "stdout",
          "output_type": "stream",
          "text": [
            "Accuracy for 2-Class Scenario (Overreaction vs. Normal Day) with KNN: 0.9919879819729595\n",
            "Accuracy for 3-Class Scenario (Positive Overreaction, Negative Overreaction, Normal Day) with KNN: 0.513770655983976\n"
          ]
        }
      ],
      "source": [
        "from sklearn.metrics import accuracy_score\n",
        "binary_labels = btc_data_i['Oc'].apply(lambda x: 1 if x != 0 else 0)\n",
        "three_class_labels = btc_data_i['Oc']\n",
        "X=btc_data[features_eth]\n",
        "X_train_2class, X_eval_2class, y_train_2class, y_eval_2class = train_test_split(X, binary_labels, test_size=0.2, random_state=42)\n",
        "X_train_3class, X_eval_3class, y_train_3class, y_eval_3class = train_test\n",
        "knn_classifier_2class = KNeighborsClassifier(n_neighbors=5)\n",
        "knn_classifier_3class = KNeighborsClassifier(n_neighbors=5)\n",
        "knn_classifier_2class.fit(X_train_2class, y_train_2class)\n",
        "knn_classifier_3class.fit(X_train_3class, y_train_3class)\n",
        "\n",
        "y_pred_2class = knn_classifier_2class.predict(X_eval_2class)\n",
        "y_pred_3class = knn_classifier_3class.predict(X_eval_3class)\n",
        "\n",
        "accuracy_2class = accuracy_score(y_eval_2class, y_pred_2class)\n",
        "accuracy_3class = accuracy_score(y_eval_3class, y_pred_3class)\n",
        "\n",
        "print(\"Accuracy for 2-Class Scenario (Overreaction vs. Normal Day) with KNN:\", accuracy_2class)\n",
        "print(\"Accuracy for 3-Class Scenario (Positive Overreaction, Negative Overreaction, Normal Day) with KNN:\", accuracy_3class)\n"
      ]
    },
    {
      "cell_type": "code",
      "execution_count": null,
      "metadata": {
        "colab": {
          "base_uri": "https://localhost:8080/"
        },
        "id": "8Bx2gDRRNmOw",
        "outputId": "3d1046c0-9417-46d0-bd68-17945f8a39fb"
      },
      "outputs": [
        {
          "name": "stdout",
          "output_type": "stream",
          "text": [
            "Ethereum Dataset:\n",
            "Accuracy for 2-Class Scenario (Overreaction vs. Normal Day) with KNN: 0.9919879819729595\n",
            "Accuracy for 3-Class Scenario (Positive Overreaction, Negative Overreaction, Normal Day) with KNN: 0.528793189784677\n",
            "\n",
            "Litecoin Dataset:\n",
            "Accuracy for 2-Class Scenario (Overreaction vs. Normal Day) with KNN: 0.8818227341011518\n",
            "Accuracy for 3-Class Scenario (Positive Overreaction, Negative Overreaction, Normal Day) with KNN: 0.4752128192288433\n"
          ]
        }
      ],
      "source": [
        "\n",
        "X_train_2class_eth, X_eval_2class_eth, y_train_2class_eth, y_eval_2class_eth = train_test_split(X_eth, binary_labels_eth, test_size=0.2, random_state=42)\n",
        "X_train_3class_eth, X_eval_3class_eth, y_train_3class_eth, y_eval_3class_eth = train_test_split(X_eth, three_class_labels_eth, test_size=0.2, random_state=42)\n",
        "X_train_2class_ltc, X_eval_2class_ltc, y_train_2class_ltc, y_eval_2class_ltc = train_test_split(X_ltc, binary_labels_ltc, test_size=0.2, random_state=42)\n",
        "X_train_3class_ltc, X_eval_3class_ltc, y_train_3class_ltc, y_eval_3class_ltc = train_test_split(X_ltc, three_class_labels_ltc, test_size=0.2, random_state=42)\n",
        "\n",
        "knn_classifier_2class_eth = KNeighborsClassifier(n_neighbors=5)\n",
        "knn_classifier_3class_eth = KNeighborsClassifier(n_neighbors=5)\n",
        "knn_classifier_2class_ltc = KNeighborsClassifier(n_neighbors=5)\n",
        "knn_classifier_3class_ltc = KNeighborsClassifier(n_neighbors=5)\n",
        "knn_classifier_2class_eth.fit(X_train_2class_eth, y_train_2class_eth)\n",
        "knn_classifier_3class_eth.fit(X_train_3class_eth, y_train_3class_eth)\n",
        "knn_classifier_2class_ltc.fit(X_train_2class_ltc, y_train_2class_ltc)\n",
        "knn_classifier_3class_ltc.fit(X_train_3class_ltc, y_train_3class_ltc)\n",
        "\n",
        "y_pred_2class_eth = knn_classifier_2class_eth.predict(X_eval_2class_eth)\n",
        "y_pred_3class_eth = knn_classifier_3class_eth.predict(X_eval_3class_eth)\n",
        "y_pred_2class_ltc = knn_classifier_2class_ltc.predict(X_eval_2class_ltc)\n",
        "y_pred_3class_ltc = knn_classifier_3class_ltc.predict(X_eval_3class_ltc)\n",
        "\n",
        "accuracy_2class_eth = accuracy_score(y_eval_2class_eth, y_pred_2class_eth)\n",
        "accuracy_3class_eth = accuracy_score(y_eval_3class_eth, y_pred_3class_eth)\n",
        "accuracy_2class_ltc = accuracy_score(y_eval_2class_ltc, y_pred_2class_ltc)\n",
        "accuracy_3class_ltc = accuracy_score(y_eval_3class_ltc, y_pred_3class_ltc)\n",
        "\n",
        "print(\"Ethereum Dataset:\")\n",
        "print(\"Accuracy for 2-Class Scenario (Overreaction vs. Normal Day) with KNN:\", accuracy_2class_eth)\n",
        "print(\"Accuracy for 3-Class Scenario (Positive Overreaction, Negative Overreaction, Normal Day) with KNN:\", accuracy_3class_eth)\n",
        "\n",
        "print(\"\\nLitecoin Dataset:\")\n",
        "print(\"Accuracy for 2-Class Scenario (Overreaction vs. Normal Day) with KNN:\", accuracy_2class_ltc)\n",
        "print(\"Accuracy for 3-Class Scenario (Positive Overreaction, Negative Overreaction, Normal Day) with KNN:\", accuracy_3class_ltc)\n"
      ]
    },
    {
      "cell_type": "markdown",
      "metadata": {
        "id": "CDBjpS9r99ZL"
      },
      "source": [
        "SVC"
      ]
    },
    {
      "cell_type": "code",
      "execution_count": 15,
      "metadata": {
        "colab": {
          "base_uri": "https://localhost:8080/"
        },
        "id": "RwyOYBXR9rnA",
        "outputId": "397d72c4-db8e-4640-e496-5994f708847b"
      },
      "outputs": [
        {
          "output_type": "stream",
          "name": "stdout",
          "text": [
            "Bitcoin Dataset:\n",
            "Accuracy for Bitcoin Dataset with SVC: 0.5448172258387581\n",
            "Recall for Bitcoin Dataset with SVC: 0.5448172258387581\n",
            "Precision for Bitcoin Dataset with SVC: 0.5330302217718087\n"
          ]
        },
        {
          "output_type": "stream",
          "name": "stderr",
          "text": [
            "/usr/local/lib/python3.10/dist-packages/sklearn/metrics/_classification.py:1344: UndefinedMetricWarning: Recall is ill-defined and being set to 0.0 in labels with no true samples. Use `zero_division` parameter to control this behavior.\n",
            "  _warn_prf(average, modifier, msg_start, len(result))\n",
            "/usr/local/lib/python3.10/dist-packages/sklearn/metrics/_classification.py:1344: UndefinedMetricWarning: Precision is ill-defined and being set to 0.0 in labels with no predicted samples. Use `zero_division` parameter to control this behavior.\n",
            "  _warn_prf(average, modifier, msg_start, len(result))\n"
          ]
        }
      ],
      "source": [
        "from sklearn.model_selection import train_test_split\n",
        "from sklearn.svm import SVC\n",
        "from sklearn.metrics import accuracy_score, recall_score, precision_score\n",
        "\n",
        "def apply_svc_classifier(data, crypto_name):\n",
        "    features = ['Open', 'High', 'Low', 'Close', 'Volume', 'SMA5-20', 'EMA5-20', 'RSI', 'ATR', 'OBV']\n",
        "    X = data[features]\n",
        "    y = data['Label']\n",
        "\n",
        "    X_train, X_eval, y_train, y_eval = train_test_split(X, y, test_size=0.2, random_state=42)\n",
        "\n",
        "    classifier = SVC(kernel='linear', random_state=42)\n",
        "    classifier.fit(X_train, y_train)\n",
        "\n",
        "    y_pred = classifier.predict(X_eval)\n",
        "\n",
        "    accuracy = accuracy_score(y_eval, y_pred)\n",
        "    recall = recall_score(y_eval, y_pred, average='weighted')\n",
        "    precision = precision_score(y_eval, y_pred, average='weighted')\n",
        "\n",
        "    print(f\"Accuracy for {crypto_name} Dataset with SVC:\", accuracy)\n",
        "    print(f\"Recall for {crypto_name} Dataset with SVC:\", recall)\n",
        "    print(f\"Precision for {crypto_name} Dataset with SVC:\", precision)\n",
        "\n",
        "print(\"Bitcoin Dataset:\")\n",
        "apply_svc_classifier(btc_data, \"Bitcoin\")\n"
      ]
    },
    {
      "cell_type": "code",
      "execution_count": null,
      "metadata": {
        "id": "0olIT1Q59_hF"
      },
      "outputs": [],
      "source": [
        "from sklearn.svm import SVC\n",
        "from sklearn.metrics import accuracy_score\n",
        "\n",
        "binary_labels = btc_data_i['Oc'].apply(lambda x: 1 if x != 0 else 0)\n",
        "three_class_labels = btc_data_i['Oc']\n",
        "\n",
        "X_train_2class, X_eval_2class, y_train_2class, y_eval_2class = train_test_split(X, binary_labels, test_size=0.2, random_state=42)\n",
        "X_train_3class, X_eval_3class, y_train_3class, y_eval_3class = train_test_split(X, three_class_labels, test_size=0.2, random_state=42)\n",
        "\n",
        "# Initializing and training SVC classifiers for both scenarios\n",
        "svc_classifier_2class = SVC(kernel='linear', random_state=42)\n",
        "svc_classifier_3class = SVC(kernel='linear', random_state=42)\n",
        "svc_classifier_2class.fit(X_train_2class, y_train_2class)\n",
        "svc_classifier_3class.fit(X_train_3class, y_train_3class)\n",
        "\n",
        "y_pred_2class = svc_classifier_2class.predict(X_eval_2class)\n",
        "y_pred_3class = svc_classifier_3class.predict(X_eval_3class)\n",
        "\n",
        "accuracy_2class = accuracy_score(y_eval_2class, y_pred_2class)\n",
        "accuracy_3class = accuracy_score(y_eval_3class, y_pred_3class)\n",
        "\n",
        "print(\"Accuracy for 2-Class Scenario (Overreaction vs. Normal Day) with SVC:\", accuracy_2class)\n",
        "print(\"Accuracy for 3-Class Scenario (Positive Overreaction, Negative Overreaction, Normal Day) with SVC:\", accuracy_3class)\n"
      ]
    },
    {
      "cell_type": "markdown",
      "metadata": {
        "id": "Eur982Mq-ZVj"
      },
      "source": [
        "Multinomial Naive Bayes"
      ]
    },
    {
      "cell_type": "code",
      "execution_count": 21,
      "metadata": {
        "colab": {
          "base_uri": "https://localhost:8080/"
        },
        "id": "IObYlibO-hFE",
        "outputId": "18745e28-b259-4c7e-de3a-25834760aaca"
      },
      "outputs": [
        {
          "output_type": "stream",
          "name": "stdout",
          "text": [
            "Accuracy: 0.4767150726089134\n",
            "Precision: 0.44960293298804666\n",
            "Recall: 0.4767150726089134\n"
          ]
        },
        {
          "output_type": "stream",
          "name": "stderr",
          "text": [
            "/usr/local/lib/python3.10/dist-packages/sklearn/metrics/_classification.py:1344: UndefinedMetricWarning: Precision is ill-defined and being set to 0.0 in labels with no predicted samples. Use `zero_division` parameter to control this behavior.\n",
            "  _warn_prf(average, modifier, msg_start, len(result))\n"
          ]
        }
      ],
      "source": [
        "from sklearn.preprocessing import MinMaxScaler\n",
        "from sklearn.naive_bayes import MultinomialNB\n",
        "from sklearn.metrics import accuracy_score\n",
        "features = ['Open', 'High', 'Low', 'Close', 'Volume', 'SMA5-20', 'EMA5-20', 'RSI', 'ATR', 'OBV']\n",
        "X = btc_data[features]\n",
        "y = btc_data_i['Label']\n",
        "X_train, X_eval, y_train, y_eval = train_test_split(X, y, test_size=0.2, random_state=42)\n",
        "\n",
        "scaler = MinMaxScaler()\n",
        "X_train_scaled = scaler.fit_transform(X_train)\n",
        "X_eval_scaled = scaler.transform(X_eval)\n",
        "\n",
        "# Preprocess labels to ensure they are non-negative\n",
        "y_train_preprocessed = y_train + 1\n",
        "y_eval_preprocessed = y_eval + 1\n",
        "# Initialize and train Multinomial Naive Bayes classifier\n",
        "nb_classifier = MultinomialNB()\n",
        "nb_classifier.fit(X_train_scaled, y_train_preprocessed)\n",
        "\n",
        "# Predict on evaluation set\n",
        "y_pred = nb_classifier.predict(X_eval_scaled)\n",
        "\n",
        "y_pred_original = y_pred - 1\n",
        "accuracy = accuracy_score(y_eval, y_pred_original)\n",
        "precision = precision_score(y_eval, y_pred_original, average='weighted')\n",
        "recall = recall_score(y_eval, y_pred_original, average='weighted')\n",
        "\n",
        "print(\"Accuracy:\", accuracy)\n",
        "print(\"Precision:\", precision)\n",
        "print(\"Recall:\", recall)"
      ]
    },
    {
      "cell_type": "code",
      "execution_count": null,
      "metadata": {
        "colab": {
          "base_uri": "https://localhost:8080/"
        },
        "id": "QgepKt-u-jue",
        "outputId": "8909f1ce-7cce-4371-87bd-280642f19abd"
      },
      "outputs": [
        {
          "name": "stdout",
          "output_type": "stream",
          "text": [
            "Accuracy for 2-Class Scenario (Overreaction vs. Normal Day) with SVC: 0.9924887330996495\n",
            "Accuracy for 3-Class Scenario (Positive Overreaction, Negative Overreaction, Normal Day) with SVC: 0.6695042563845769\n"
          ]
        }
      ],
      "source": [
        "from sklearn.model_selection import train_test_split\n",
        "from sklearn.svm import SVC\n",
        "from sklearn.metrics import accuracy_score\n",
        "\n",
        "binary_labels_2class = btc_data_i['Oc'].apply(lambda x: 1 if x != 0 else 0)\n",
        "\n",
        "X_train_2class, X_eval_2class, y_train_2class, y_eval_2class = train_test_split(X, binary_labels_2class, test_size=0.2, random_state=42)\n",
        "\n",
        "svc_classifier_2class = SVC(kernel='linear', random_state=42)\n",
        "svc_classifier_2class.fit(X_train_2class, y_train_2class)\n",
        "y_pred_2class = svc_classifier_2class.predict(X_eval_2class)\n",
        "\n",
        "accuracy_2class = accuracy_score(y_eval_2class, y_pred_2class)\n",
        "\n",
        "print(\"Accuracy for 2-Class Scenario (Overreaction vs. Normal Day) with SVC:\", accuracy_2class)\n",
        "\n",
        "\n",
        "three_class_labels = btc_data_i['Oc']\n",
        "\n",
        "X_train_3class, X_eval_3class, y_train_3class, y_eval_3class = train_test_split(X, three_class_labels, test_size=0.2, random_state=42)\n",
        "\n",
        "svc_classifier_3class = SVC(kernel='linear', random_state=42)\n",
        "svc_classifier_3class.fit(X_train_3class, y_train_3class)\n",
        "\n",
        "y_pred_3class = svc_classifier_3class.predict(X_eval_3class)\n",
        "\n",
        "accuracy_3class = accuracy_score(y_eval_3class, y_pred_3class)\n",
        "\n",
        "print(\"Accuracy for 3-Class Scenario (Positive Overreaction, Negative Overreaction, Normal Day) with SVC:\", accuracy_3class)\n"
      ]
    },
    {
      "cell_type": "markdown",
      "metadata": {
        "id": "mX094Z5kAtwN"
      },
      "source": [
        "Multi-Layer Perceptron (MLP)"
      ]
    },
    {
      "cell_type": "code",
      "execution_count": 22,
      "metadata": {
        "colab": {
          "base_uri": "https://localhost:8080/"
        },
        "id": "6cDG75RJAWLW",
        "outputId": "d62e3b8a-7bbb-453b-e2dc-337a384f952f"
      },
      "outputs": [
        {
          "output_type": "stream",
          "name": "stdout",
          "text": [
            "Accuracy: 0.4767150726089134\n",
            "Precision: 0.44960293298804666\n",
            "Recall: 0.4767150726089134\n"
          ]
        },
        {
          "output_type": "stream",
          "name": "stderr",
          "text": [
            "/usr/local/lib/python3.10/dist-packages/sklearn/neural_network/_multilayer_perceptron.py:686: ConvergenceWarning: Stochastic Optimizer: Maximum iterations (200) reached and the optimization hasn't converged yet.\n",
            "  warnings.warn(\n",
            "/usr/local/lib/python3.10/dist-packages/sklearn/metrics/_classification.py:1344: UndefinedMetricWarning: Precision is ill-defined and being set to 0.0 in labels with no predicted samples. Use `zero_division` parameter to control this behavior.\n",
            "  _warn_prf(average, modifier, msg_start, len(result))\n"
          ]
        }
      ],
      "source": [
        "from sklearn.neural_network import MLPClassifier\n",
        "from sklearn.preprocessing import MinMaxScaler\n",
        "from sklearn.metrics import accuracy_score\n",
        "from sklearn.model_selection import train_test_split\n",
        "\n",
        "features = ['Open', 'High', 'Low', 'Close', 'Volume', 'SMA5-20', 'EMA5-20', 'RSI', 'ATR', 'OBV']\n",
        "X = btc_data[features]\n",
        "y = btc_data['Label']\n",
        "\n",
        "X_train, X_eval, y_train, y_eval = train_test_split(X, y, test_size=0.2, random_state=42)\n",
        "\n",
        "scaler = MinMaxScaler()\n",
        "X_train_scaled = scaler.fit_transform(X_train)\n",
        "X_eval_scaled = scaler.transform(X_eval)\n",
        "\n",
        "mlp_classifier = MLPClassifier(random_state=42)\n",
        "mlp_classifier.fit(X_train_scaled, y_train)\n",
        "\n",
        "y_pred = mlp_classifier.predict(X_eval_scaled)\n",
        "accuracy = accuracy_score(y_eval, y_pred)\n",
        "\n",
        "precision = precision_score(y_eval, y_pred, average='weighted')\n",
        "\n",
        "recall = recall_score(y_eval, y_pred, average='weighted')\n",
        "\n",
        "print(\"Accuracy:\", accuracy)\n",
        "print(\"Precision:\", precision)\n",
        "print(\"Recall:\", recall)\n"
      ]
    },
    {
      "cell_type": "code",
      "execution_count": null,
      "metadata": {
        "colab": {
          "base_uri": "https://localhost:8080/"
        },
        "id": "4qnPCrmHA14v",
        "outputId": "9705991f-424b-4337-a51c-3195abe2bd34"
      },
      "outputs": [
        {
          "name": "stdout",
          "output_type": "stream",
          "text": [
            "Accuracy for 2-Class Scenario (Overreaction vs. Normal Day) with MLP: 0.9924887330996495\n",
            "Accuracy for 3-Class Scenario (Positive Overreaction, Negative Overreaction, Normal Day) with MLP: 0.5728592889334001\n"
          ]
        }
      ],
      "source": [
        "from sklearn.model_selection import train_test_split\n",
        "from sklearn.neural_network import MLPClassifier\n",
        "from sklearn.metrics import accuracy_score\n",
        "\n",
        "binary_labels_2class = btc_data_i['Oc'].apply(lambda x: 1 if x != 0 else 0)\n",
        "\n",
        "X_train_2class, X_eval_2class, y_train_2class, y_eval_2class = train_test_split(X, binary_labels_2class, test_size=0.2, random_state=42)\n",
        "\n",
        "mlp_classifier_2class = MLPClassifier(random_state=42)\n",
        "mlp_classifier_2class.fit(X_train_2class, y_train_2class)\n",
        "\n",
        "y_pred_2class = mlp_classifier_2class.predict(X_eval_2class)\n",
        "\n",
        "accuracy_2class = accuracy_score(y_eval_2class, y_pred_2class)\n",
        "\n",
        "print(\"Accuracy for 2-Class Scenario (Overreaction vs. Normal Day) with MLP:\", accuracy_2class)\n",
        "\n",
        "\n",
        "# Adjusting the target variable for the 3-class scenario based on Oc indicator labels\n",
        "three_class_labels = btc_data_i['Oc']\n",
        "\n",
        "# Splitting the dataset into training and evaluation sets for the 3-class scenario\n",
        "X_train_3class, X_eval_3class, y_train_3class, y_eval_3class = train_test_split(X, three_class_labels, test_size=0.2, random_state=42)\n",
        "mlp_classifier_3class = MLPClassifier(random_state=42)\n",
        "mlp_classifier_3class.fit(X_train_3class, y_train_3class)\n",
        "\n",
        "y_pred_3class = mlp_classifier_3class.predict(X_eval_3class)\n",
        "\n",
        "accuracy_3class = accuracy_score(y_eval_3class, y_pred_3class)\n",
        "\n",
        "print(\"Accuracy for 3-Class Scenario (Positive Overreaction, Negative Overreaction, Normal Day) with MLP:\", accuracy_3class)\n"
      ]
    },
    {
      "cell_type": "markdown",
      "metadata": {
        "id": "SztztHJ_CuaH"
      },
      "source": [
        "Logistic Regression"
      ]
    },
    {
      "cell_type": "code",
      "execution_count": 24,
      "metadata": {
        "colab": {
          "base_uri": "https://localhost:8080/"
        },
        "id": "JT_a4Cg4DTnl",
        "outputId": "dd27bd56-8a6f-4634-c804-26e7d977ce04"
      },
      "outputs": [
        {
          "output_type": "stream",
          "name": "stdout",
          "text": [
            "Accuracy for Multiclass Classification Scenario: 0.4656985478217326\n",
            "Precision for Multiclass Classification Scenario: 0.4345088141141433\n",
            "Recall for Multiclass Classification Scenario: 0.4656985478217326\n"
          ]
        },
        {
          "output_type": "stream",
          "name": "stderr",
          "text": [
            "/usr/local/lib/python3.10/dist-packages/sklearn/linear_model/_logistic.py:458: ConvergenceWarning: lbfgs failed to converge (status=1):\n",
            "STOP: TOTAL NO. of ITERATIONS REACHED LIMIT.\n",
            "\n",
            "Increase the number of iterations (max_iter) or scale the data as shown in:\n",
            "    https://scikit-learn.org/stable/modules/preprocessing.html\n",
            "Please also refer to the documentation for alternative solver options:\n",
            "    https://scikit-learn.org/stable/modules/linear_model.html#logistic-regression\n",
            "  n_iter_i = _check_optimize_result(\n",
            "/usr/local/lib/python3.10/dist-packages/sklearn/metrics/_classification.py:1344: UndefinedMetricWarning: Precision is ill-defined and being set to 0.0 in labels with no predicted samples. Use `zero_division` parameter to control this behavior.\n",
            "  _warn_prf(average, modifier, msg_start, len(result))\n"
          ]
        }
      ],
      "source": [
        "from sklearn.model_selection import train_test_split\n",
        "from sklearn.linear_model import LogisticRegression\n",
        "from sklearn.metrics import accuracy_score, precision_score, recall_score\n",
        "\n",
        "X_train_multiclass, X_eval_multiclass, y_train_multiclass, y_eval_multiclass = train_test_split(X,\n",
        "lg_classifier_multiclass = LogisticRegression(random_state=42)\n",
        "lg_classifier_multiclass.fit(X_train_multiclass, y_train_multiclass)\n",
        "\n",
        "y_pred_multiclass = lg_classifier_multiclass.predict(X_eval_multiclass)\n",
        "\n",
        "accuracy_multiclass = accuracy_score(y_eval_multiclass, y_pred_multiclass)\n",
        "\n",
        "precision_multiclass = precision_score(y_eval_multiclass, y_pred_multiclass, average='weighted')\n",
        "\n",
        "recall_multiclass = recall_score(y_eval_multiclass, y_pred_multiclass, average='weighted')\n",
        "\n",
        "print(\"Accuracy for Multiclass Classification Scenario:\", accuracy_multiclass)\n",
        "print(\"Precision for Multiclass Classification Scenario:\", precision_multiclass)\n",
        "print(\"Recall for Multiclass Classification Scenario:\", recall_multiclass)\n"
      ]
    },
    {
      "cell_type": "code",
      "execution_count": null,
      "metadata": {
        "colab": {
          "base_uri": "https://localhost:8080/"
        },
        "id": "Z2H4gYQzCNQD",
        "outputId": "26a768b3-0022-4f70-ab78-322c3ecab060"
      },
      "outputs": [
        {
          "name": "stderr",
          "output_type": "stream",
          "text": [
            "/usr/local/lib/python3.10/dist-packages/sklearn/linear_model/_logistic.py:458: ConvergenceWarning: lbfgs failed to converge (status=1):\n",
            "STOP: TOTAL NO. of ITERATIONS REACHED LIMIT.\n",
            "\n",
            "Increase the number of iterations (max_iter) or scale the data as shown in:\n",
            "    https://scikit-learn.org/stable/modules/preprocessing.html\n",
            "Please also refer to the documentation for alternative solver options:\n",
            "    https://scikit-learn.org/stable/modules/linear_model.html#logistic-regression\n",
            "  n_iter_i = _check_optimize_result(\n"
          ]
        },
        {
          "name": "stdout",
          "output_type": "stream",
          "text": [
            "Accuracy for 2-Class Scenario (Overreaction vs. Normal Day) with LG Classifier: 0.9924887330996495\n",
            "Accuracy for 3-Class Scenario (Positive Overreaction, Negative Overreaction, Normal Day) with LG Classifier: 0.6124186279419128\n"
          ]
        },
        {
          "name": "stderr",
          "output_type": "stream",
          "text": [
            "/usr/local/lib/python3.10/dist-packages/sklearn/linear_model/_logistic.py:458: ConvergenceWarning: lbfgs failed to converge (status=1):\n",
            "STOP: TOTAL NO. of ITERATIONS REACHED LIMIT.\n",
            "\n",
            "Increase the number of iterations (max_iter) or scale the data as shown in:\n",
            "    https://scikit-learn.org/stable/modules/preprocessing.html\n",
            "Please also refer to the documentation for alternative solver options:\n",
            "    https://scikit-learn.org/stable/modules/linear_model.html#logistic-regression\n",
            "  n_iter_i = _check_optimize_result(\n"
          ]
        }
      ],
      "source": [
        "from sklearn.model_selection import train_test_split\n",
        "from sklearn.linear_model import LogisticRegression\n",
        "from sklearn.metrics import accuracy_score\n",
        "\n",
        "binary_labels_2class = btc_data_i['Oc'].apply(lambda x: 1 if x != 0 else 0)\n",
        "\n",
        "X_train_2class, X_eval_2class, y_train_2class, y_eval_2class = train_test_split(X, binary_labels_2class, test_size=0.2, random_state=42)\n",
        "\n",
        "lg_classifier_2class = LogisticRegression(random_state=42)\n",
        "lg_classifier_2class.fit(X_train_2class, y_train_2class)\n",
        "\n",
        "y_pred_2class = lg_classifier_2class.predict(X_eval_2class)\n",
        "\n",
        "accuracy_2class = accuracy_score(y_eval_2class, y_pred_2class)\n",
        "\n",
        "print(\"Accuracy for 2-Class Scenario (Overreaction vs. Normal Day) with LG Classifier:\", accuracy_2class)\n",
        "\n",
        "\n",
        "three_class_labels = btc_data_i['Oc']\n",
        "X_train_3class, X_eval_3class, y_train_3class, y_eval_3class = train_test_split(X, three_class_labels, test_size=0.2, random_state=42)\n",
        "\n",
        "lg_classifier_3class = LogisticRegression(random_state=42)\n",
        "lg_classifier_3class.fit(X_train_3class, y_train_3class)\n",
        "\n",
        "y_pred_3class = lg_classifier_3class.predict(X_eval_3class)\n",
        "\n",
        "accuracy_3class = accuracy_score(y_eval_3class, y_pred_3class)\n",
        "\n",
        "print(\"Accuracy for 3-Class Scenario (Positive Overreaction, Negative Overreaction, Normal Day) with LG Classifier:\", accuracy_3class)\n"
      ]
    },
    {
      "cell_type": "markdown",
      "metadata": {
        "id": "gY7kz2xREEK2"
      },
      "source": [
        "GNB"
      ]
    },
    {
      "cell_type": "code",
      "execution_count": 26,
      "metadata": {
        "colab": {
          "base_uri": "https://localhost:8080/"
        },
        "id": "m4VZW2KzDk46",
        "outputId": "9606409e-bc6e-4597-c88d-a9b4049373fb"
      },
      "outputs": [
        {
          "output_type": "stream",
          "name": "stdout",
          "text": [
            "Accuracy with GNB Classifier: 0.3660490736104156\n",
            "Precision with GNB Classifier: 0.4217416675225088\n",
            "Recall with GNB Classifier: 0.3660490736104156\n"
          ]
        },
        {
          "output_type": "stream",
          "name": "stderr",
          "text": [
            "/usr/local/lib/python3.10/dist-packages/sklearn/metrics/_classification.py:1344: UndefinedMetricWarning: Precision is ill-defined and being set to 0.0 in labels with no predicted samples. Use `zero_division` parameter to control this behavior.\n",
            "  _warn_prf(average, modifier, msg_start, len(result))\n",
            "/usr/local/lib/python3.10/dist-packages/sklearn/metrics/_classification.py:1344: UndefinedMetricWarning: Recall is ill-defined and being set to 0.0 in labels with no true samples. Use `zero_division` parameter to control this behavior.\n",
            "  _warn_prf(average, modifier, msg_start, len(result))\n"
          ]
        }
      ],
      "source": [
        "from sklearn.model_selection import train_test_split\n",
        "from sklearn.naive_bayes import GaussianNB\n",
        "from sklearn.metrics import accuracy_score, precision_score, recall_score\n",
        "\n",
        "X_train_binary, X_eval_binary, y_train_binary, y_eval_binary = train_test_split(X, y, test_size=0.2, random_state=42)\n",
        "\n",
        "gnb_classifier_binary = GaussianNB()\n",
        "gnb_classifier_binary.fit(X_train_binary, y_train_binary)\n",
        "\n",
        "y_pred_binary = gnb_classifier_binary.predict(X_eval_binary)\n",
        "\n",
        "accuracy_binary = accuracy_score(y_eval_binary, y_pred_binary)\n",
        "\n",
        "precision_binary = precision_score(y_eval_binary, y_pred_binary, average='weighted')\n",
        "\n",
        "recall_binary = recall_score(y_eval_binary, y_pred_binary, average='weighted')\n",
        "\n",
        "print(\"Accuracy with GNB Classifier:\", accuracy_binary)\n",
        "print(\"Precision with GNB Classifier:\", precision_binary)\n",
        "print(\"Recall with GNB Classifier:\", recall_binary)\n"
      ]
    },
    {
      "cell_type": "code",
      "execution_count": null,
      "metadata": {
        "colab": {
          "base_uri": "https://localhost:8080/"
        },
        "id": "peWG1jgWENRv",
        "outputId": "0f8e7ace-3a6c-402a-8e53-3417f1ce1ea6"
      },
      "outputs": [
        {
          "name": "stdout",
          "output_type": "stream",
          "text": [
            "Accuracy for 2-Class Scenario (Normal Day vs. Overreaction) with GNB Classifier: 0.8983475212819229\n"
          ]
        }
      ],
      "source": [
        "\n",
        "binary_labels = btc_data_i['Oc'].apply(lambda x: 1 if x != 0 else 0)\n",
        "\n",
        "X_train_2class, X_eval_2class, y_train_2class, y_eval_2class = train_test_split(X, binary_labels, test_size=0.2, random_state=42)\n",
        "\n",
        "gnb_classifier_2class = GaussianNB()\n",
        "gnb_classifier_2class.fit(X_train_2class, y_train_2class)\n",
        "\n",
        "y_pred_2class = gnb_classifier_2class.predict(X_eval_2class)\n",
        "\n",
        "accuracy_2class = accuracy_score(y_eval_2class, y_pred_2class)\n",
        "\n",
        "print(\"Accuracy for 2-Class Scenario (Normal Day vs. Overreaction) with GNB Classifier:\", accuracy_2class)\n"
      ]
    },
    {
      "cell_type": "code",
      "execution_count": null,
      "metadata": {
        "colab": {
          "base_uri": "https://localhost:8080/"
        },
        "id": "gsYXEp5kEV_b",
        "outputId": "40292395-aa63-4871-c4f0-e5f4daf88a06"
      },
      "outputs": [
        {
          "name": "stdout",
          "output_type": "stream",
          "text": [
            "Accuracy for 3-Class Scenario (Positive Overreaction, Negative Overreaction, Normal Day) with GNB Classifier: 0.5307961942914372\n"
          ]
        }
      ],
      "source": [
        "\n",
        "three_class_labels = btc_data_i['Oc']\n",
        "\n",
        "X_train_3class, X_eval_3class, y_train_3class, y_eval_3class = train_test_split(X, three_class_labels, test_size=0.2, random_state=42)\n",
        "\n",
        "# Initializing and training Gaussian Naive Bayes classifier for the 3-class classification scenario\n",
        "gnb_classifier_3class = GaussianNB()\n",
        "gnb_classifier_3class.fit(X_train_3class, y_train_3class)\n",
        "\n",
        "y_pred_3class = gnb_classifier_3class.predict(X_eval_3class)\n",
        "\n",
        "accuracy_3class = accuracy_score(y_eval_3class, y_pred_3class)\n",
        "\n",
        "print(\"Accuracy for 3-Class Scenario (Positive Overreaction, Negative Overreaction, Normal Day) with GNB Classifier:\", accuracy_3class)\n"
      ]
    },
    {
      "cell_type": "markdown",
      "metadata": {
        "id": "-YIyXmKuGwLv"
      },
      "source": [
        "HE\n"
      ]
    },
    {
      "cell_type": "code",
      "execution_count": 27,
      "metadata": {
        "colab": {
          "base_uri": "https://localhost:8080/"
        },
        "id": "LN_PExIXEa0n",
        "outputId": "6f935faf-4390-4871-e1dd-174795fcee8b"
      },
      "outputs": [
        {
          "output_type": "stream",
          "name": "stdout",
          "text": [
            "Positive threshold: 0.016209237559183798\n",
            "Negative threshold: 0.016209237559183798\n",
            "Accuracy: 0.49519038076152305\n",
            "Precision: 0.24762000200420883\n",
            "Recall: 0.5\n"
          ]
        },
        {
          "output_type": "stream",
          "name": "stderr",
          "text": [
            "/usr/local/lib/python3.10/dist-packages/sklearn/metrics/_classification.py:1344: UndefinedMetricWarning: Precision is ill-defined and being set to 0.0 in labels with no predicted samples. Use `zero_division` parameter to control this behavior.\n",
            "  _warn_prf(average, modifier, msg_start, len(result))\n"
          ]
        }
      ],
      "source": [
        "import numpy as np\n",
        "from sklearn.metrics import precision_score, recall_score\n",
        "\n",
        "\n",
        "# Step 1: Calculate daily returns\n",
        "def calculate_daily_returns(open_prices, close_prices):\n",
        "    returns = ((close_prices / open_prices) - 1) * 100\n",
        "    return returns\n",
        "\n",
        "# Step 2: Divide returns into positive and negative datasets\n",
        "def split_returns(returns):\n",
        "    positive_returns = returns[returns > 0]\n",
        "    negative_returns = returns[returns < 0]\n",
        "    return positive_returns, negative_returns\n",
        "\n",
        "# Step 3: Compute average daily return and standard deviation\n",
        "def compute_statistics(returns):\n",
        "    average_return = np.mean(returns)\n",
        "    std_dev = np.std(returns)\n",
        "    return average_return, std_dev\n",
        "\n",
        "# Step 4: Define thresholds for positive and negative overreaction\n",
        "def define_thresholds(average_return, std_dev, k):\n",
        "    positive_threshold = average_return + k * std_dev\n",
        "    negative_threshold = average_return - k * std_dev\n",
        "    return positive_threshold, negative_threshold\n",
        "\n",
        "open_prices = btc_data['Open'].values\n",
        "close_prices = btc_data['Close'].values\n",
        "\n",
        "returns = calculate_daily_returns(open_prices[:-1], close_prices[1:])\n",
        "positive_returns, negative_returns = split_returns(returns)\n",
        "\n",
        "average_return_pos, std_dev_pos = compute_statistics(positive_returns)\n",
        "average_return_neg, std_dev_neg = compute_statistics(negative_returns)\n",
        "\n",
        "k = 1  # Number of standard deviations\n",
        "positive_threshold, negative_threshold = define_thresholds(average_return_pos, std_dev_pos, k)\n",
        "\n",
        "print(\"Positive threshold:\", positive_threshold)\n",
        "print(\"Negative threshold:\", negative_threshold)\n",
        "def label_days(open_prices, close_prices, positive_threshold, negative_threshold):\n",
        "    returns = calculate_daily_returns(open_prices[:-1], close_prices[1:])  # Exclude last day's open and first day's close\n",
        "    labels = np.zeros(len(returns), dtype=int)  # Initialize labels array\n",
        "\n",
        "    for i, ret in enumerate(returns):\n",
        "        if ret > positive_threshold:\n",
        "            labels[i] = 1  # Positive overreaction\n",
        "        elif ret < negative_threshold:\n",
        "            labels[i] = -1  # Negative overreaction\n",
        "\n",
        "    return labels\n",
        "labels = label_days(open_prices, close_prices, positive_threshold, negative_threshold)\n",
        "def calculate_accuracy(labels, ground_truth_labels):\n",
        "    correct_predictions = np.sum(labels == ground_truth_labels)\n",
        "    total_predictions = len(labels)\n",
        "    accuracy = correct_predictions / total_predictions\n",
        "    return accuracy\n",
        "ground_truth_labels = btc_data['Oc'].apply(lambda x: 1 if x > 0 else (-1 if x < 0 else 0)).values\n",
        "ground_truth_labels = ground_truth_labels[1:]\n",
        "accuracy = calculate_accuracy(labels, ground_truth_labels)\n",
        "print(\"Accuracy:\", accuracy)\n",
        "precision = precision_score(ground_truth_labels, labels, labels=[1, -1], average='macro')\n",
        "recall = recall_score(ground_truth_labels, labels, labels=[1, -1], average='macro')\n",
        "print(\"Precision:\", precision)\n",
        "print(\"Recall:\", recall)\n"
      ]
    }
  ],
  "metadata": {
    "colab": {
      "provenance": []
    },
    "kernelspec": {
      "display_name": "Python 3",
      "name": "python3"
    },
    "language_info": {
      "name": "python"
    }
  },
  "nbformat": 4,
  "nbformat_minor": 0
}